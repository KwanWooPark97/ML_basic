{
 "cells": [
  {
   "cell_type": "code",
   "execution_count": 1,
   "id": "dacbfb8d",
   "metadata": {},
   "outputs": [
    {
     "name": "stdout",
     "output_type": "stream",
     "text": [
      "(100, 1)\n"
     ]
    }
   ],
   "source": [
    "import csv\n",
    "import numpy as np\n",
    "import matplotlib.pyplot as plt\n",
    "ty=[]\n",
    "data=[]\n",
    "label=[]\n",
    "file = open(\"ex2data1.csv\",\"r\",encoding='utf-8-sig')\n",
    "datas = csv.reader(file)\n",
    "for line in datas:\n",
    "    ty = list(map(float, line[:2]))\n",
    "    la=list(map(int,line[2]))\n",
    "    data.append(ty)\n",
    "    label.append(la)\n",
    "file.close()\n",
    "print(np.shape(np.array(label)))"
   ]
  },
  {
   "cell_type": "code",
   "execution_count": 227,
   "id": "3c4ad699",
   "metadata": {},
   "outputs": [],
   "source": [
    "label=np.reshape(np.array(label),(100,))\n",
    "pos1 = [i for i in range(len(label)) if label[i]==1]\n",
    "pos0 = [i for i in range(len(label)) if label[i]==0]"
   ]
  },
  {
   "cell_type": "code",
   "execution_count": 228,
   "id": "ac10c645",
   "metadata": {},
   "outputs": [
    {
     "data": {
      "image/png": "[encoded data removed]",
      "text/plain": [
       "<Figure size 432x288 with 1 Axes>"
      ]
     },
     "metadata": {
      "needs_background": "light"
     },
     "output_type": "display_data"
    }
   ],
   "source": [
    "np_data=np.array(data)\n",
    "a,b=np.split(np_data, 2, axis=1)\n",
    "a=a.flatten()\n",
    "b=b.flatten()\n",
    "\n",
    "plt.scatter(a[pos1], b[pos1], label='Admitted')\n",
    "plt.scatter(a[pos0], b[pos0], label='Not Admitted')\n",
    "\n",
    "plt.legend(loc='best')\n",
    "plt.xlabel('Exam 1 score')\n",
    "plt.ylabel('Exam 2 score')\n",
    "plt.show()"
   ]
  },
  {
   "cell_type": "code",
   "execution_count": 229,
   "id": "1c74c5ad",
   "metadata": {},
   "outputs": [
    {
     "data": {
      "text/plain": [
       "<tensorflow.python.keras.callbacks.History at 0x2336c057af0>"
      ]
     },
     "execution_count": 229,
     "metadata": {},
     "output_type": "execute_result"
    }
   ],
   "source": [
    "import tensorflow as tf\n",
    "from sklearn.model_selection import train_test_split\n",
    "x_train , x_test , y_train , y_test = train_test_split(np_data, label,test_size=0.1,random_state=42)\n",
    "y_train = tf.keras.utils.to_categorical(y_train, num_classes=2)\n",
    "y_test = tf.keras.utils.to_categorical(y_test, num_classes=2)\n",
    "model = tf.keras.Sequential([\n",
    "    tf.keras.layers.Dense(50, activation='relu',input_shape=(2,)),\n",
    "    tf.keras.layers.Dense(2,activation='sigmoid')\n",
    "])\n",
    "model.compile(loss='binary_crossentropy', optimizer='adam', metrics=['accuracy'])\n",
    "model.fit(x_train, y_train, epochs=300, batch_size=5, verbose=0)\n"
   ]
  },
  {
   "cell_type": "code",
   "execution_count": 243,
   "id": "e2ea300b",
   "metadata": {},
   "outputs": [
    {
     "name": "stdout",
     "output_type": "stream",
     "text": [
      "합격\n",
      "불합격\n",
      "불합격\n",
      "합격\n",
      "불합격\n",
      "불합격\n",
      "합격\n",
      "합격\n",
      "불합격\n",
      "불합격\n",
      "[1 0 0 0 0 0 0 1 0 0]\n"
     ]
    }
   ],
   "source": [
    "Z = model.predict(x_test)\n",
    "z=np.argmax(Z,1)\n",
    "for i in z:\n",
    "    if i==0:\n",
    "        print('불합격')\n",
    "    elif i==1:\n",
    "        print('합격')\n",
    "\n",
    "print(np.argmax(y_test,1))"
   ]
  },
  {
   "cell_type": "code",
   "execution_count": 236,
   "id": "3d7319ec",
   "metadata": {},
   "outputs": [],
   "source": [
    "from matplotlib.colors import ListedColormap\n",
    "def plot_decision_regions(X, y, classifier, resolution=0.02):\n",
    "    \n",
    "    # 마커와 컬러맵을 설정합니다\n",
    "    markers = ('s', 'x', 'o', '^', 'v')\n",
    "    colors = ('red', 'blue', 'lightgreen', 'gray', 'cyan')\n",
    "    cmap = ListedColormap(colors[:len(np.unique(y))])\n",
    "    \n",
    "    # 결정 경계를 그립니다.\n",
    "    x1_min, x1_max = X[:, 0].min() - 1, X[:, 0].max() + 1\n",
    "    x2_min, x2_max = X[:, 1].min() - 1, X[:, 1].max() + 1\n",
    "    xx1, xx2 = np.meshgrid(np.arange(x1_min, x1_max, resolution),\n",
    "                          np.arange(x2_min, x2_max, resolution))\n",
    "    Z = classifier.predict(np.array([xx1.ravel(), xx2.ravel()]).T)\n",
    "    Z = np.argmax(Z,1)\n",
    "    Z = Z.reshape(xx1.shape)\n",
    "    plt.contourf(xx1, xx2, Z, alpha=0.3, cmap=cmap)\n",
    "    plt.xlim(xx1.min(), xx1.max())\n",
    "    plt.ylim(xx2.min(), xx2.max())\n",
    "    label=np.argmax(y,1)\n",
    "    pos1 = [i for i in range(len(label)) if label[i]==1]\n",
    "    pos0 = [i for i in range(len(label)) if label[i]==0]\n",
    "    a,b=np.split(X, 2, axis=1)\n",
    "    a=a.flatten()\n",
    "    b=b.flatten()\n",
    "    # 샘플의 산점도를 그립니다\n",
    "    plt.scatter(a[pos0],b[pos0],alpha=0.8,c=colors[0],marker=markers[0],label='0',edgecolor='black')\n",
    "    plt.scatter(a[pos1],b[pos1],alpha=0.8,c=colors[1],marker=markers[1],label='1',edgecolor='black')"
   ]
  },
  {
   "cell_type": "code",
   "execution_count": 237,
   "id": "490fd921",
   "metadata": {},
   "outputs": [
    {
     "name": "stderr",
     "output_type": "stream",
     "text": [
      "C:\\Users\\user\\AppData\\Local\\Temp/ipykernel_4228/1819446285.py:28: UserWarning: You passed a edgecolor/edgecolors ('black') for an unfilled marker ('x').  Matplotlib is ignoring the edgecolor in favor of the facecolor.  This behavior may change in the future.\n",
      "  plt.scatter(a[pos1],b[pos1],alpha=0.8,c=colors[1],marker=markers[1],label='1',edgecolor='black')\n"
     ]
    },
    {
     "data": {
      "image/png": "[encoded data removed]",
      "text/plain": [
       "<Figure size 432x288 with 1 Axes>"
      ]
     },
     "metadata": {
      "needs_background": "light"
     },
     "output_type": "display_data"
    }
   ],
   "source": [
    "plot_decision_regions(X=x_train, y=y_train, classifier=model)\n",
    "\n",
    "plt.xlabel('petal length [standardized]')\n",
    "plt.ylabel('petal width [standardized]')\n",
    "plt.legend(loc='upper left')\n",
    "\n",
    "plt.tight_layout()\n",
    "plt.show()"
   ]
  }
 ],
 "metadata": {
  "kernelspec": {
   "display_name": "Python 3 (ipykernel)",
   "language": "python",
   "name": "python3"
  },
  "language_info": {
   "codemirror_mode": {
    "name": "ipython",
    "version": 3
   },
   "file_extension": ".py",
   "mimetype": "text/x-python",
   "name": "python",
   "nbconvert_exporter": "python",
   "pygments_lexer": "ipython3",
   "version": "3.8.12"
  }
 },
 "nbformat": 4,
 "nbformat_minor": 5
}
