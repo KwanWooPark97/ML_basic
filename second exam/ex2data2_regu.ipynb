{
 "cells": [
  {
   "cell_type": "code",
   "execution_count": 79,
   "metadata": {},
   "outputs": [],
   "source": [
    "import numpy as np\n",
    "import matplotlib.pyplot as plt\n",
    "import pandas as pd\n",
    "from scipy import optimize"
   ]
  },
  {
   "cell_type": "markdown",
   "metadata": {},
   "source": [
    "### 2 Regularized Logistic Regression"
   ]
  },
  {
   "cell_type": "markdown",
   "metadata": {},
   "source": [
    "#### 2.1 Visualizing the data"
   ]
  },
  {
   "cell_type": "code",
   "execution_count": 80,
   "metadata": {},
   "outputs": [],
   "source": [
    "datafile = 'ex2data2.txt'\n",
    "#!head $datafile\n",
    "cols = np.loadtxt(datafile,delimiter=',',usecols=(0,1,2),unpack=True) #Read in comma separated data\n",
    "##Form the usual \"X\" matrix and \"y\" vector\n",
    "X = np.transpose(np.array(cols[:-1]))\n",
    "y = np.transpose(np.array(cols[-1:]))\n",
    "m = y.size # number of training examples\n",
    "##Insert the usual column of 1's into the \"X\" matrix\n",
    "X = np.insert(X,0,1,axis=1)"
   ]
  },
  {
   "cell_type": "code",
   "execution_count": 81,
   "metadata": {},
   "outputs": [],
   "source": [
    "#Divide the sample into two: ones with positive classification, one with null classification\n",
    "pos = np.array([X[i] for i in range(X.shape[0]) if y[i] == 1])\n",
    "neg = np.array([X[i] for i in range(X.shape[0]) if y[i] == 0])\n",
    "#Check to make sure I included all entries\n",
    "#print \"Included everything? \",(len(pos)+len(neg) == X.shape[0])"
   ]
  },
  {
   "cell_type": "code",
   "execution_count": 82,
   "metadata": {},
   "outputs": [
    {
     "data": {
      "image/png": "[encoded data removed]",
      "text/plain": [
       "<Figure size 432x288 with 1 Axes>"
      ]
     },
     "metadata": {
      "needs_background": "light"
     },
     "output_type": "display_data"
    }
   ],
   "source": [
    "def plotData():\n",
    "    plt.plot(pos[:,1],pos[:,2],'k+',label='y=1')\n",
    "    plt.plot(neg[:,1],neg[:,2],'yo',label='y=0')\n",
    "    plt.legend()\n",
    "\n",
    "\n",
    "#Draw it square to emphasize circular features\n",
    "plotData()"
   ]
  },
  {
   "cell_type": "markdown",
   "metadata": {},
   "source": [
    "#### 2.2 Feature mapping"
   ]
  },
  {
   "cell_type": "code",
   "execution_count": 83,
   "metadata": {},
   "outputs": [],
   "source": [
    "#This code I took from someone else (the OCTAVE equivalent was provided in the HW)\n",
    "def mapFeature( x1col, x2col ):\n",
    "    \"\"\" \n",
    "    Function that takes in a column of n- x1's, a column of n- x2s, and builds\n",
    "    a n- x 28-dim matrix of featuers as described in the homework assignment\n",
    "    \"\"\"\n",
    "    degrees = 6\n",
    "    out = np.ones( (x1col.shape[0], 1) )\n",
    "\n",
    "    for i in range(1, degrees+1):\n",
    "        for j in range(0, i+1):\n",
    "            term1 = x1col ** (i-j)\n",
    "            term2 = x2col ** (j)\n",
    "            term  = (term1 * term2).reshape( term1.shape[0], 1 ) \n",
    "            out   = np.hstack(( out, term ))\n",
    "    return out #[1 ,x1, x2, x1^2, x1x2, x2^2, x1^3,... ]\n"
   ]
  },
  {
   "cell_type": "code",
   "execution_count": 84,
   "metadata": {},
   "outputs": [],
   "source": [
    "#Create feature-mapped X matrix\n",
    "mappedX = mapFeature(X[:,1],X[:,2])"
   ]
  },
  {
   "cell_type": "code",
   "execution_count": 85,
   "metadata": {
    "scrolled": true
   },
   "outputs": [
    {
     "name": "stdout",
     "output_type": "stream",
     "text": [
      "(118, 28)\n"
     ]
    }
   ],
   "source": [
    "print(np.shape(mappedX))"
   ]
  },
  {
   "cell_type": "markdown",
   "metadata": {},
   "source": [
    "#### 2.3 Cost function and gradient"
   ]
  },
  {
   "cell_type": "code",
   "execution_count": 86,
   "metadata": {},
   "outputs": [],
   "source": [
    "def sigmoid(x):\n",
    "    a = np.exp(-x)\n",
    "    return 1.0 / (1.0 + a)"
   ]
  },
  {
   "cell_type": "code",
   "execution_count": 87,
   "metadata": {},
   "outputs": [],
   "source": [
    "def computeCost(mytheta,myX,myy,mylambda = 0.): \n",
    "    \"\"\"\n",
    "    theta_start is an n- dimensional vector of initial theta guess\n",
    "    X is matrix with n- columns and m- rows\n",
    "    y is a matrix with m- rows and 1 column\n",
    "    Note this includes regularization, if you set mylambda to nonzero\n",
    "    For the first part of the homework, the default 0. is used for mylambda\n",
    "    \"\"\"\n",
    "    #note to self: *.shape is (rows, columns)\n",
    "    term1 = np.dot(-np.array(myy).T,np.log(sigmoid(np.dot(myX,mytheta))))\n",
    "    term2 = np.dot((1-np.array(myy)).T,np.log(1-sigmoid(np.dot(myX,mytheta))))\n",
    "    regterm = (mylambda/2) * np.sum(np.dot(mytheta[1:].T,mytheta[1:])) #Skip theta0\n",
    "    return float((1./m) * ( np.sum(term1 - term2) + regterm ))"
   ]
  },
  {
   "cell_type": "code",
   "execution_count": 88,
   "metadata": {},
   "outputs": [
    {
     "data": {
      "text/plain": [
       "0.6931471805599454"
      ]
     },
     "execution_count": 88,
     "metadata": {},
     "output_type": "execute_result"
    }
   ],
   "source": [
    "#Cost function is the same as the one implemented above, as I included the regularization\n",
    "#toggled off for default function call (lambda = 0)\n",
    "#I do not need separate implementation of the derivative term of the cost function\n",
    "#Because the scipy optimization function I'm using only needs the cost function itself\n",
    "#Let's check that the cost function returns a cost of 0.693 with zeros for initial theta,\n",
    "#and regularized x values\n",
    "initial_theta = np.zeros((mappedX.shape[1],1))\n",
    "computeCost(initial_theta,mappedX,y)"
   ]
  },
  {
   "cell_type": "markdown",
   "metadata": {},
   "source": [
    "##### 2.3.1 Learning parameters using fminunc"
   ]
  },
  {
   "cell_type": "code",
   "execution_count": 89,
   "metadata": {
    "scrolled": false
   },
   "outputs": [
    {
     "name": "stdout",
     "output_type": "stream",
     "text": [
      "      fun: 0.2578136435007308\n",
      " hess_inv: array([[ 9.54717972e+02,  8.02759156e+02, -3.35784194e+02,\n",
      "        -6.58702413e+03, -2.54679661e+03, -5.17810111e+03,\n",
      "        -5.52230831e+03,  1.15488638e+04,  1.01187896e+04,\n",
      "        -6.13426393e+03,  1.97574658e+04,  5.31430909e+03,\n",
      "         8.24212565e+03, -6.30264352e+03,  1.18762911e+04,\n",
      "         9.35936100e+03, -2.45307378e+04, -4.28731271e+04,\n",
      "        -2.52793755e+04, -7.14839235e+03,  2.23872442e+04,\n",
      "        -2.24540934e+04,  6.93958712e+03,  2.76599175e+04,\n",
      "         5.04157598e+04,  5.63807489e+03,  3.37701989e+03,\n",
      "        -2.39729310e+04],\n",
      "       [ 8.02759156e+02,  2.36670121e+03, -1.73423873e+02,\n",
      "        -4.47014478e+03, -2.06027664e+03, -3.42074196e+03,\n",
      "        -9.23521752e+03,  6.13156614e+03, -6.73422816e+02,\n",
      "        -3.43068783e+03,  9.34250265e+03,  6.04566185e+03,\n",
      "         7.12305556e+03, -2.53657092e+03,  5.01113624e+03,\n",
      "         7.89197066e+03, -1.74472852e+04, -1.76600110e+04,\n",
      "        -1.53062760e+04,  9.36297504e+02,  1.29563843e+04,\n",
      "        -5.88703637e+03,  9.54303762e+03,  1.66463433e+04,\n",
      "         2.17908211e+04,  8.91768095e+03,  4.77785727e+03,\n",
      "        -1.14490536e+04],\n",
      "       [-3.35784194e+02, -1.73423873e+02,  4.56580562e+03,\n",
      "         1.72549673e+03,  3.01234975e+03,  4.41488466e+03,\n",
      "         5.96188092e+03, -3.22566163e+04, -3.64638748e+04,\n",
      "         3.75969587e+03, -1.62327992e+04, -3.90238366e+03,\n",
      "         7.60450973e+03,  2.88874427e+04, -1.77493290e+04,\n",
      "        -1.18277208e+04,  4.48662491e+04,  7.24796971e+04,\n",
      "         3.83885751e+04,  4.45962478e+04, -4.41082119e+04,\n",
      "         3.40894454e+04, -5.23617536e+03, -6.63883361e+04,\n",
      "        -9.42602822e+04,  1.38903426e+04, -3.18894365e+04,\n",
      "         5.07545417e+04],\n",
      "       [-6.58702413e+03, -4.47014478e+03,  1.72549673e+03,\n",
      "         6.16194896e+04,  1.92066597e+04,  3.11030850e+04,\n",
      "         3.55575538e+04, -6.94597875e+04, -5.46370314e+04,\n",
      "         3.32997738e+04, -1.97915244e+05, -4.36606594e+04,\n",
      "        -6.70140819e+04,  2.55452722e+04, -6.30731861e+04,\n",
      "        -6.55993185e+04,  1.75639485e+05,  2.97498631e+05,\n",
      "         1.60551986e+05,  5.26231829e+03, -1.30212164e+05,\n",
      "         2.09831559e+05, -5.48555917e+04, -1.69519052e+05,\n",
      "        -3.25598291e+05, -5.40490100e+04,  1.85527064e+04,\n",
      "         1.36301033e+05],\n",
      "       [-2.54679661e+03, -2.06027664e+03,  3.01234975e+03,\n",
      "         1.92066597e+04,  1.59241246e+04,  1.38136713e+04,\n",
      "         1.79495365e+04, -3.61318412e+04, -3.16375027e+04,\n",
      "         1.50147580e+04, -5.84377505e+04, -2.33704765e+04,\n",
      "        -2.37987202e+04,  5.62200079e+03, -3.09005046e+04,\n",
      "        -3.01378009e+04,  7.30948089e+04,  1.25670262e+05,\n",
      "         7.08237472e+04,  2.03258598e+04, -7.25307632e+04,\n",
      "         6.49081542e+04, -2.66622648e+04, -7.25227514e+04,\n",
      "        -1.57405788e+05, -2.07826882e+04, -5.43875234e+03,\n",
      "         7.51808668e+04],\n",
      "       [-5.17810111e+03, -3.42074196e+03,  4.41488466e+03,\n",
      "         3.11030850e+04,  1.38136713e+04,  4.28206690e+04,\n",
      "         3.03172717e+04, -9.61913234e+04, -8.52349271e+04,\n",
      "         5.07676734e+04, -1.04083851e+05, -2.88118958e+04,\n",
      "        -5.33749807e+04,  6.03156478e+04, -1.22467436e+05,\n",
      "        -5.92957242e+04,  1.73806799e+05,  3.04580813e+05,\n",
      "         1.95412296e+05,  8.86417792e+04, -1.75839371e+05,\n",
      "         1.40944393e+05, -3.22565042e+04, -2.03196569e+05,\n",
      "        -3.77721486e+05, -1.65781620e+04, -6.05316321e+04,\n",
      "         2.08637350e+05],\n",
      "       [-5.52230831e+03, -9.23521752e+03,  5.96188092e+03,\n",
      "         3.55575538e+04,  1.79495365e+04,  3.03172717e+04,\n",
      "         5.96052764e+04, -1.07089171e+05, -9.77778178e+04,\n",
      "         4.98783800e+04, -1.17569649e+05, -4.07046242e+04,\n",
      "        -3.80417981e+04,  7.92971174e+04, -7.73656591e+04,\n",
      "        -8.74652509e+04,  2.20606362e+05,  3.40400956e+05,\n",
      "         1.95286957e+05,  1.03951178e+05, -1.97515728e+05,\n",
      "         1.52115892e+05, -7.37508664e+04, -2.60564832e+05,\n",
      "        -3.98862517e+05, -2.69635471e+04, -8.74515621e+04,\n",
      "         1.96008510e+05],\n",
      "       [ 1.15488638e+04,  6.13156614e+03, -3.22566163e+04,\n",
      "        -6.94597875e+04, -3.61318412e+04, -9.61913234e+04,\n",
      "        -1.07089171e+05,  4.99350978e+05,  5.29198841e+05,\n",
      "        -2.12236514e+05,  3.63379841e+05,  5.65030868e+04,\n",
      "         1.83560677e+04, -3.98593391e+05,  3.67097749e+05,\n",
      "         2.32138909e+05, -8.28716025e+05, -1.36027528e+06,\n",
      "        -8.02475579e+05, -6.58094506e+05,  8.32661573e+05,\n",
      "        -6.39442663e+05,  1.40738278e+05,  1.08536177e+06,\n",
      "         1.70809590e+06, -8.98295318e+04,  4.23120435e+05,\n",
      "        -8.91802569e+05],\n",
      "       [ 1.01187896e+04, -6.73422816e+02, -3.64638748e+04,\n",
      "        -5.46370314e+04, -3.16375027e+04, -8.52349271e+04,\n",
      "        -9.77778178e+04,  5.29198841e+05,  6.47041162e+05,\n",
      "        -2.15456283e+05,  3.44496421e+05,  4.47554599e+04,\n",
      "        -3.33324268e+04, -4.82624498e+05,  3.54757284e+05,\n",
      "         2.49740378e+05, -8.57811352e+05, -1.55162856e+06,\n",
      "        -8.28943035e+05, -7.91966357e+05,  8.93220608e+05,\n",
      "        -6.76233158e+05,  1.13828815e+05,  1.24247261e+06,\n",
      "         1.92261216e+06, -1.60750740e+05,  4.81398136e+05,\n",
      "        -9.47640205e+05],\n",
      "       [-6.13426393e+03, -3.43068783e+03,  3.75969587e+03,\n",
      "         3.32997738e+04,  1.50147580e+04,  5.07676734e+04,\n",
      "         4.98783800e+04, -2.12236514e+05, -2.15456283e+05,\n",
      "         1.43824883e+05, -1.53898759e+05, -1.99882579e+04,\n",
      "        -5.56990790e+04,  1.44488978e+05, -1.98313923e+05,\n",
      "        -1.13580101e+05,  3.77845820e+05,  6.58491993e+05,\n",
      "         4.20436046e+05,  2.83215037e+05, -4.23549045e+05,\n",
      "         2.68612130e+05, -8.20286684e+04, -4.70771485e+05,\n",
      "        -8.21631432e+05, -5.93795838e+03, -1.66983030e+05,\n",
      "         4.38630143e+05],\n",
      "       [ 1.97574658e+04,  9.34250265e+03, -1.62327992e+04,\n",
      "        -1.97915244e+05, -5.84377505e+04, -1.04083851e+05,\n",
      "        -1.17569649e+05,  3.63379841e+05,  3.44496421e+05,\n",
      "        -1.53898759e+05,  7.44057226e+05,  1.40289622e+05,\n",
      "         1.74312129e+05, -2.22170943e+05,  2.70869330e+05,\n",
      "         2.55655419e+05, -7.98561049e+05, -1.31250218e+06,\n",
      "        -6.86807208e+05, -2.41273290e+05,  6.14676429e+05,\n",
      "        -9.12324926e+05,  1.85570827e+05,  8.51392845e+05,\n",
      "         1.48060660e+06,  8.14463926e+04,  8.56632067e+04,\n",
      "        -6.45892567e+05],\n",
      "       [ 5.31430909e+03,  6.04566185e+03, -3.90238366e+03,\n",
      "        -4.36606594e+04, -2.33704765e+04, -2.88118958e+04,\n",
      "        -4.07046242e+04,  5.65030868e+04,  4.47554599e+04,\n",
      "        -1.99882579e+04,  1.40289622e+05,  6.50717698e+04,\n",
      "         6.18641444e+04, -3.29492553e+04,  5.60171086e+04,\n",
      "         6.43118977e+04, -1.53803360e+05, -2.42301833e+05,\n",
      "        -1.20189265e+05, -1.84511827e+04,  1.02119219e+05,\n",
      "        -1.60871064e+05,  2.69616407e+04,  1.69101206e+05,\n",
      "         3.02028694e+05,  1.91907279e+04,  2.01161571e+04,\n",
      "        -1.11463467e+05],\n",
      "       [ 8.24212565e+03,  7.12305556e+03,  7.60450973e+03,\n",
      "        -6.70140819e+04, -2.37987202e+04, -5.33749807e+04,\n",
      "        -3.80417981e+04,  1.83560677e+04, -3.33324268e+04,\n",
      "        -5.56990790e+04,  1.74312129e+05,  6.18641444e+04,\n",
      "         1.64093160e+05,  5.11317711e+04,  1.12677236e+05,\n",
      "         6.67955461e+04, -1.19384492e+05, -2.37353021e+05,\n",
      "        -1.72441526e+05,  9.56689675e+04,  1.10029286e+05,\n",
      "        -1.52596841e+05,  4.70519742e+04,  5.91638316e+04,\n",
      "         2.65810838e+05,  1.13340626e+05, -7.02606440e+04,\n",
      "        -1.27024785e+05],\n",
      "       [-6.30264352e+03, -2.53657092e+03,  2.88874427e+04,\n",
      "         2.55452722e+04,  5.62200079e+03,  6.03156478e+04,\n",
      "         7.92971174e+04, -3.98593391e+05, -4.82624498e+05,\n",
      "         1.44488978e+05, -2.22170943e+05, -3.29492553e+04,\n",
      "         5.11317711e+04,  4.30126023e+05, -2.55698660e+05,\n",
      "        -1.85658251e+05,  6.46507284e+05,  1.10541351e+06,\n",
      "         5.88925286e+05,  6.20649653e+05, -6.26524603e+05,\n",
      "         4.92235284e+05, -6.42167393e+04, -9.78566799e+05,\n",
      "        -1.36687156e+06,  1.80666513e+05, -4.44733224e+05,\n",
      "         6.71803968e+05],\n",
      "       [ 1.18762911e+04,  5.01113624e+03, -1.77493290e+04,\n",
      "        -6.30731861e+04, -3.09005046e+04, -1.22467436e+05,\n",
      "        -7.73656591e+04,  3.67097749e+05,  3.54757284e+05,\n",
      "        -1.98313923e+05,  2.70869330e+05,  5.60171086e+04,\n",
      "         1.12677236e+05, -2.55698660e+05,  4.23901408e+05,\n",
      "         1.76716187e+05, -6.10355393e+05, -1.06824741e+06,\n",
      "        -6.98419097e+05, -4.44858421e+05,  6.63175790e+05,\n",
      "        -4.51144824e+05,  8.70553945e+04,  7.62994992e+05,\n",
      "         1.36825852e+06, -1.20901791e+04,  2.87171377e+05,\n",
      "        -7.76289598e+05],\n",
      "       [ 9.35936100e+03,  7.89197066e+03, -1.18277208e+04,\n",
      "        -6.55993185e+04, -3.01378009e+04, -5.92957242e+04,\n",
      "        -8.74652509e+04,  2.32138909e+05,  2.49740378e+05,\n",
      "        -1.13580101e+05,  2.55655419e+05,  6.43118977e+04,\n",
      "         6.67955461e+04, -1.85658251e+05,  1.76716187e+05,\n",
      "         1.75425745e+05, -4.55487087e+05, -7.77745978e+05,\n",
      "        -4.09624298e+05, -2.67206580e+05,  4.24732461e+05,\n",
      "        -3.76410594e+05,  1.22790144e+05,  5.56245362e+05,\n",
      "         8.90694414e+05,  8.48425414e+03,  1.91403782e+05,\n",
      "        -4.32074592e+05],\n",
      "       [-2.45307378e+04, -1.74472852e+04,  4.48662491e+04,\n",
      "         1.75639485e+05,  7.30948089e+04,  1.73806799e+05,\n",
      "         2.20606362e+05, -8.28716025e+05, -8.57811352e+05,\n",
      "         3.77845820e+05, -7.98561049e+05, -1.53803360e+05,\n",
      "        -1.19384492e+05,  6.46507284e+05, -6.10355393e+05,\n",
      "        -4.55487087e+05,  1.51624788e+06,  2.44204859e+06,\n",
      "         1.39487626e+06,  1.01149859e+06, -1.41699183e+06,\n",
      "         1.25565669e+06, -2.90524905e+05, -1.87938226e+06,\n",
      "        -2.98914827e+06,  7.59697002e+04, -6.47649465e+05,\n",
      "         1.48883015e+06],\n",
      "       [-4.28731271e+04, -1.76600110e+04,  7.24796971e+04,\n",
      "         2.97498631e+05,  1.25670262e+05,  3.04580813e+05,\n",
      "         3.40400956e+05, -1.36027528e+06, -1.55162856e+06,\n",
      "         6.58491993e+05, -1.31250218e+06, -2.42301833e+05,\n",
      "        -2.37353021e+05,  1.10541351e+06, -1.06824741e+06,\n",
      "        -7.77745978e+05,  2.44204859e+06,  4.45356876e+06,\n",
      "         2.44788267e+06,  1.76638916e+06, -2.47454740e+06,\n",
      "         2.08173748e+06, -4.34936023e+05, -3.27379619e+06,\n",
      "        -5.39448932e+06,  1.35366355e+05, -1.02420945e+06,\n",
      "         2.61396379e+06],\n",
      "       [-2.52793755e+04, -1.53062760e+04,  3.83885751e+04,\n",
      "         1.60551986e+05,  7.08237472e+04,  1.95412296e+05,\n",
      "         1.95286957e+05, -8.02475579e+05, -8.28943035e+05,\n",
      "         4.20436046e+05, -6.86807208e+05, -1.20189265e+05,\n",
      "        -1.72441526e+05,  5.88925286e+05, -6.98419097e+05,\n",
      "        -4.09624298e+05,  1.39487626e+06,  2.44788267e+06,\n",
      "         1.51609454e+06,  9.98468794e+05, -1.48780358e+06,\n",
      "         1.08694155e+06, -2.72859625e+05, -1.82273443e+06,\n",
      "        -3.06614421e+06,  1.73021775e+04, -5.89563614e+05,\n",
      "         1.59376532e+06],\n",
      "       [-7.14839235e+03,  9.36297504e+02,  4.45962478e+04,\n",
      "         5.26231829e+03,  2.03258598e+04,  8.86417792e+04,\n",
      "         1.03951178e+05, -6.58094506e+05, -7.91966357e+05,\n",
      "         2.83215037e+05, -2.41273290e+05, -1.84511827e+04,\n",
      "         9.56689675e+04,  6.20649653e+05, -4.44858421e+05,\n",
      "        -2.67206580e+05,  1.01149859e+06,  1.76638916e+06,\n",
      "         9.98468794e+05,  1.07825205e+06, -1.10678733e+06,\n",
      "         6.78187898e+05, -9.93788281e+04, -1.51560596e+06,\n",
      "        -2.28130467e+06,  2.65628730e+05, -6.98586287e+05,\n",
      "         1.17529450e+06],\n",
      "       [ 2.23872442e+04,  1.29563843e+04, -4.41082119e+04,\n",
      "        -1.30212164e+05, -7.25307632e+04, -1.75839371e+05,\n",
      "        -1.97515728e+05,  8.32661573e+05,  8.93220608e+05,\n",
      "        -4.23549045e+05,  6.14676429e+05,  1.02119219e+05,\n",
      "         1.10029286e+05, -6.26524603e+05,  6.63175790e+05,\n",
      "         4.24732461e+05, -1.41699183e+06, -2.47454740e+06,\n",
      "        -1.48780358e+06, -1.10678733e+06,  1.52988739e+06,\n",
      "        -1.05692267e+06,  2.88383323e+05,  1.86924494e+06,\n",
      "         3.08921262e+06, -6.32375131e+04,  6.70413897e+05,\n",
      "        -1.60868921e+06],\n",
      "       [-2.24540934e+04, -5.88703637e+03,  3.40894454e+04,\n",
      "         2.09831559e+05,  6.49081542e+04,  1.40944393e+05,\n",
      "         1.52115892e+05, -6.39442663e+05, -6.76233158e+05,\n",
      "         2.68612130e+05, -9.12324926e+05, -1.60871064e+05,\n",
      "        -1.52596841e+05,  4.92235284e+05, -4.51144824e+05,\n",
      "        -3.76410594e+05,  1.25565669e+06,  2.08173748e+06,\n",
      "         1.08694155e+06,  6.78187898e+05, -1.05692267e+06,\n",
      "         1.30500554e+06, -2.12745500e+05, -1.49570380e+06,\n",
      "        -2.44192717e+06,  5.81634519e+04, -3.81418883e+05,\n",
      "         1.11322779e+06],\n",
      "       [ 6.93958712e+03,  9.54303762e+03, -5.23617536e+03,\n",
      "        -5.48555917e+04, -2.66622648e+04, -3.22565042e+04,\n",
      "        -7.37508664e+04,  1.40738278e+05,  1.13828815e+05,\n",
      "        -8.20286684e+04,  1.85570827e+05,  2.69616407e+04,\n",
      "         4.70519742e+04, -6.42167393e+04,  8.70553945e+04,\n",
      "         1.22790144e+05, -2.90524905e+05, -4.34936023e+05,\n",
      "        -2.72859625e+05, -9.93788281e+04,  2.88383323e+05,\n",
      "        -2.12745500e+05,  1.94137880e+05,  2.55825755e+05,\n",
      "         4.21387150e+05,  1.05454781e+05,  7.84958080e+04,\n",
      "        -2.64188929e+05],\n",
      "       [ 2.76599175e+04,  1.66463433e+04, -6.63883361e+04,\n",
      "        -1.69519052e+05, -7.25227514e+04, -2.03196569e+05,\n",
      "        -2.60564832e+05,  1.08536177e+06,  1.24247261e+06,\n",
      "        -4.70771485e+05,  8.51392845e+05,  1.69101206e+05,\n",
      "         5.91638316e+04, -9.78566799e+05,  7.62994992e+05,\n",
      "         5.56245362e+05, -1.87938226e+06, -3.27379619e+06,\n",
      "        -1.82273443e+06, -1.51560596e+06,  1.86924494e+06,\n",
      "        -1.49570380e+06,  2.55825755e+05,  2.65654201e+06,\n",
      "         4.09416095e+06, -2.58483376e+05,  9.61775411e+05,\n",
      "        -1.96962029e+06],\n",
      "       [ 5.04157598e+04,  2.17908211e+04, -9.42602822e+04,\n",
      "        -3.25598291e+05, -1.57405788e+05, -3.77721486e+05,\n",
      "        -3.98862517e+05,  1.70809590e+06,  1.92261216e+06,\n",
      "        -8.21631432e+05,  1.48060660e+06,  3.02028694e+05,\n",
      "         2.65810838e+05, -1.36687156e+06,  1.36825852e+06,\n",
      "         8.90694414e+05, -2.98914827e+06, -5.39448932e+06,\n",
      "        -3.06614421e+06, -2.28130467e+06,  3.08921262e+06,\n",
      "        -2.44192717e+06,  4.21387150e+05,  4.09416095e+06,\n",
      "         6.78257434e+06, -2.36183762e+05,  1.30472097e+06,\n",
      "        -3.30048820e+06],\n",
      "       [ 5.63807489e+03,  8.91768095e+03,  1.38903426e+04,\n",
      "        -5.40490100e+04, -2.07826882e+04, -1.65781620e+04,\n",
      "        -2.69635471e+04, -8.98295318e+04, -1.60750740e+05,\n",
      "        -5.93795838e+03,  8.14463926e+04,  1.91907279e+04,\n",
      "         1.13340626e+05,  1.80666513e+05, -1.20901791e+04,\n",
      "         8.48425414e+03,  7.59697002e+04,  1.35366355e+05,\n",
      "         1.73021775e+04,  2.65628730e+05, -6.32375131e+04,\n",
      "         5.81634519e+04,  1.05454781e+05, -2.58483376e+05,\n",
      "        -2.36183762e+05,  2.16728100e+05, -2.15314044e+05,\n",
      "         8.20036622e+04],\n",
      "       [ 3.37701989e+03,  4.77785727e+03, -3.18894365e+04,\n",
      "         1.85527064e+04, -5.43875234e+03, -6.05316321e+04,\n",
      "        -8.74515621e+04,  4.23120435e+05,  4.81398136e+05,\n",
      "        -1.66983030e+05,  8.56632067e+04,  2.01161571e+04,\n",
      "        -7.02606440e+04, -4.44733224e+05,  2.87171377e+05,\n",
      "         1.91403782e+05, -6.47649465e+05, -1.02420945e+06,\n",
      "        -5.89563614e+05, -6.98586287e+05,  6.70413897e+05,\n",
      "        -3.81418883e+05,  7.84958080e+04,  9.61775411e+05,\n",
      "         1.30472097e+06, -2.15314044e+05,  5.69202988e+05,\n",
      "        -7.12430180e+05],\n",
      "       [-2.39729310e+04, -1.14490536e+04,  5.07545417e+04,\n",
      "         1.36301033e+05,  7.51808668e+04,  2.08637350e+05,\n",
      "         1.96008510e+05, -8.91802569e+05, -9.47640205e+05,\n",
      "         4.38630143e+05, -6.45892567e+05, -1.11463467e+05,\n",
      "        -1.27024785e+05,  6.71803968e+05, -7.76289598e+05,\n",
      "        -4.32074592e+05,  1.48883015e+06,  2.61396379e+06,\n",
      "         1.59376532e+06,  1.17529450e+06, -1.60868921e+06,\n",
      "         1.11322779e+06, -2.64188929e+05, -1.96962029e+06,\n",
      "        -3.30048820e+06,  8.20036622e+04, -7.12430180e+05,\n",
      "         1.75330148e+06]])\n",
      "      jac: array([ 1.13993883e-06, -8.41915607e-07, -4.01958823e-06, -2.26497650e-06,\n",
      "        5.07757068e-06, -1.08778477e-06,  1.08033419e-07,  1.17570162e-05,\n",
      "        7.15255737e-07,  1.32173300e-05, -2.02655792e-06, -1.55754387e-05,\n",
      "        1.29938126e-05, -1.27814710e-05, -8.74698162e-06, -6.36652112e-06,\n",
      "       -1.33626163e-05,  1.07288361e-06, -1.34706497e-05, -6.55651093e-07,\n",
      "       -2.00085342e-05,  8.90716910e-06,  1.56350434e-05, -2.77310610e-05,\n",
      "        2.17780471e-05, -7.62566924e-06,  6.16535544e-06,  1.48154795e-05])\n",
      "  message: 'Desired error not necessarily achieved due to precision loss.'\n",
      "     nfev: 13340\n",
      "      nit: 447\n",
      "     njev: 460\n",
      "   status: 2\n",
      "  success: False\n",
      "        x: array([  12.87386018,   14.85655909,    9.06355853, -121.87366825,\n",
      "        -35.44887499,  -58.8731148 , -106.43541624,  -66.58654466,\n",
      "        -29.05305223,  -14.53625624,  400.62420388,  224.09856771,\n",
      "        487.3402287 ,  119.11099049,   93.63887758,  180.48486969,\n",
      "        195.31833934,  232.46989186,  108.716783  ,   13.02049942,\n",
      "         14.32433203, -439.73205708, -420.32237331, -808.29229038,\n",
      "       -363.55696251, -571.82276156, -159.05307092,  -64.80729923])\n"
     ]
    }
   ],
   "source": [
    "#I noticed that fmin wasn't converging (passing max # of iterations)\n",
    "#so let's use minimize instead\n",
    "\n",
    "def optimizeRegularizedTheta(mytheta,myX,myy,mylambda=0.):\n",
    "    result = optimize.minimize(computeCost, mytheta, args=(myX, myy, mylambda),  method='BFGS', options={\"maxiter\":500, \"disp\":False} )\n",
    "    return result\n",
    "    \n",
    "result = optimizeRegularizedTheta(initial_theta,mappedX,y)\n",
    "theta=np.array([result.x])\n",
    "print(result)"
   ]
  },
  {
   "cell_type": "markdown",
   "metadata": {},
   "source": [
    "#### 2.4 Plotting the decision boundary"
   ]
  },
  {
   "cell_type": "code",
   "execution_count": 90,
   "metadata": {},
   "outputs": [],
   "source": [
    "def plotBoundary(mytheta, myX, myy, mylambda=0.):\n",
    "    \"\"\"\n",
    "    Function to plot the decision boundary for arbitrary theta, X, y, lambda value\n",
    "    Inside of this function is feature mapping, and the minimization routine.\n",
    "    It works by making a grid of x1 (\"xvals\") and x2 (\"yvals\") points,\n",
    "    And for each, computing whether the hypothesis classifies that point as\n",
    "    True or False. Then, a contour is drawn with a built-in pyplot function.\n",
    "    \"\"\"\n",
    "    result= optimizeRegularizedTheta(mytheta,myX,myy,mylambda)\n",
    "    theta=np.array([result.x])\n",
    "    xvals = np.linspace(-1,1.5,50)\n",
    "    yvals = np.linspace(-1,1.5,50)\n",
    "    zvals = np.zeros((len(xvals),len(yvals)))\n",
    "    for i in range(len(xvals)):\n",
    "        for j in range(len(yvals)):\n",
    "            myfeaturesij = mapFeature(np.array([xvals[i]]),np.array([yvals[j]]))\n",
    "            zvals[i][j] = np.dot(theta,myfeaturesij.T)\n",
    "    zvals = zvals.transpose()\n",
    "\n",
    "    u, v = np.meshgrid( xvals, yvals )\n",
    "    mycontour = plt.contour( xvals, yvals, zvals, [0])\n",
    "    #Kind of a hacky way to display a text on top of the decision boundary\n",
    "    myfmt = { 0:'Lambda = %d'%mylambda}\n",
    "    plt.clabel(mycontour, inline=1, fontsize=15, fmt=myfmt)\n",
    "    plt.title(\"Decision Boundary\")"
   ]
  },
  {
   "cell_type": "code",
   "execution_count": 91,
   "metadata": {
    "scrolled": false
   },
   "outputs": [
    {
     "data": {
      "image/png": "[encoded data removed]",
      "text/plain": [
       "<Figure size 864x720 with 4 Axes>"
      ]
     },
     "metadata": {
      "needs_background": "light"
     },
     "output_type": "display_data"
    }
   ],
   "source": [
    "#Build a figure showing contours for various values of regularization parameter, lambda\n",
    "#It shows for lambda=0 we are overfitting, and for lambda=100 we are underfitting\n",
    "plt.figure(figsize=(12,10))\n",
    "plt.subplot(221)\n",
    "plotData()\n",
    "plotBoundary(theta,mappedX,y,0.)\n",
    "\n",
    "plt.subplot(222)\n",
    "plotData()\n",
    "plotBoundary(theta,mappedX,y,1.)\n",
    "\n",
    "plt.subplot(223)\n",
    "plotData()\n",
    "plotBoundary(theta,mappedX,y,10.)\n",
    "\n",
    "plt.subplot(224)\n",
    "plotData()\n",
    "plotBoundary(theta,mappedX,y,100.)"
   ]
  }
 ],
 "metadata": {
  "kernelspec": {
   "display_name": "Python 3 (ipykernel)",
   "language": "python",
   "name": "python3"
  },
  "language_info": {
   "codemirror_mode": {
    "name": "ipython",
    "version": 3
   },
   "file_extension": ".py",
   "mimetype": "text/x-python",
   "name": "python",
   "nbconvert_exporter": "python",
   "pygments_lexer": "ipython3",
   "version": "3.8.12"
  }
 },
 "nbformat": 4,
 "nbformat_minor": 1
}
