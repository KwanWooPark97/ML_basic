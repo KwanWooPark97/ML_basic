{
 "cells": [
  {
   "cell_type": "code",
   "execution_count": 3,
   "metadata": {},
   "outputs": [
    {
     "name": "stdout",
     "output_type": "stream",
     "text": [
      "[[ 73.  80.  75.]\n",
      " [ 93.  88.  93.]\n",
      " [ 89.  91.  90.]\n",
      " [ 96.  98. 100.]\n",
      " [ 73.  66.  70.]\n",
      " [ 53.  46.  55.]\n",
      " [ 69.  74.  77.]\n",
      " [ 47.  56.  60.]\n",
      " [ 87.  79.  90.]\n",
      " [ 79.  70.  88.]\n",
      " [ 69.  70.  73.]\n",
      " [ 70.  65.  74.]\n",
      " [ 93.  95.  91.]\n",
      " [ 79.  80.  73.]\n",
      " [ 70.  73.  78.]\n",
      " [ 93.  89.  96.]\n",
      " [ 78.  75.  68.]\n",
      " [ 81.  90.  93.]\n",
      " [ 88.  92.  86.]\n",
      " [ 78.  83.  77.]\n",
      " [ 82.  86.  90.]\n",
      " [ 86.  82.  89.]\n",
      " [ 78.  83.  85.]\n",
      " [ 76.  83.  71.]\n",
      " [ 96.  93.  95.]]\n",
      "[152. 185. 180. 196. 142. 101. 149. 115. 175. 164. 141. 141. 184. 152.\n",
      " 148. 192. 147. 183. 177. 159. 177. 175. 175. 149. 192.]\n",
      "x_data.ndim =  2 , x_data.shape =  (25, 3)\n",
      "t_data.ndim =  1 , t_data.shape =  (25,)\n"
     ]
    }
   ],
   "source": [
    "import numpy as np\n",
    "\n",
    "loaded_data = np.loadtxt('./exam-score.csv', delimiter=',', dtype=np.float32)\n",
    "\n",
    "#x_data = loaded_data[ :, 0:-1]\n",
    "#t_data = loaded_data[ :, [-1]]\n",
    "x_data = loaded_data[ :, 0:3]\n",
    "t_data = loaded_data[ :, 3]\n",
    "\n",
    "print(x_data)\n",
    "print(t_data)\n",
    "\n",
    "# 데이터 차원 및 shape 확인\n",
    "print(\"x_data.ndim = \", x_data.ndim, \", x_data.shape = \", x_data.shape)\n",
    "print(\"t_data.ndim = \", t_data.ndim, \", t_data.shape = \", t_data.shape) "
   ]
  },
  {
   "cell_type": "code",
   "execution_count": 4,
   "metadata": {},
   "outputs": [
    {
     "name": "stdout",
     "output_type": "stream",
     "text": [
      "W =  [[0.19949623]\n",
      " [0.44487177]\n",
      " [0.17734681]] , W.shape =  (3, 1) , b =  [0.04068] , b.shape =  (1,)\n"
     ]
    }
   ],
   "source": [
    "W = np.random.rand(3,1)  # 3X1 행렬\n",
    "b = np.random.rand(1)  \n",
    "print(\"W = \", W, \", W.shape = \", W.shape, \", b = \", b, \", b.shape = \", b.shape)"
   ]
  },
  {
   "cell_type": "code",
   "execution_count": 5,
   "metadata": {},
   "outputs": [],
   "source": [
    "def loss_func(x, t):\n",
    "    y = np.dot(x,W) + b\n",
    "    \n",
    "    return ( np.sum( (t - y)**2 ) ) / ( len(x) )"
   ]
  },
  {
   "cell_type": "code",
   "execution_count": 7,
   "metadata": {},
   "outputs": [],
   "source": [
    "def numerical_derivative(f, x):\n",
    "    delta_x = 1e-4 # 0.0001\n",
    "    grad = np.zeros_like(x)\n",
    "    \n",
    "    it = np.nditer(x, flags=['multi_index'], op_flags=['readwrite'])\n",
    "    \n",
    "    while not it.finished:\n",
    "        idx = it.multi_index        \n",
    "        tmp_val = x[idx]\n",
    "        x[idx] = float(tmp_val) + delta_x\n",
    "        fx1 = f(x) # f(x+delta_x)\n",
    "        \n",
    "        x[idx] = tmp_val - delta_x \n",
    "        fx2 = f(x) # f(x-delta_x)\n",
    "        grad[idx] = (fx1 - fx2) / (2*delta_x)\n",
    "        \n",
    "        x[idx] = tmp_val \n",
    "        it.iternext()   \n",
    "        \n",
    "    return grad"
   ]
  },
  {
   "cell_type": "code",
   "execution_count": 8,
   "metadata": {},
   "outputs": [],
   "source": [
    "# 손실함수 값 계산 함수\n",
    "# 입력변수 x, t : numpy type\n",
    "def error_val(x, t):\n",
    "    y = np.dot(x,W) + b\n",
    "    \n",
    "    return ( np.sum( (t - y)**2 ) ) / ( len(x) )\n",
    "\n",
    "# 학습을 마친 후, 임의의 데이터에 대해 미래 값 예측 함수\n",
    "# 입력변수 x : numpy type\n",
    "def predict(x):\n",
    "    y = np.dot(x,W) + b\n",
    "    \n",
    "    return y"
   ]
  },
  {
   "cell_type": "code",
   "execution_count": 9,
   "metadata": {},
   "outputs": [
    {
     "name": "stdout",
     "output_type": "stream",
     "text": [
      "Initial error value =  248578.745214685 Initial W =  [[0.19949623]\n",
      " [0.44487177]\n",
      " [0.17734681]] \n",
      " , b =  [0.04068]\n",
      "step =  0 error value =  17149149.35240896 W =  [[3.95514191]\n",
      " [4.21946537]\n",
      " [4.05487762]] , b =  [-0.36750482]\n",
      "step =  400 error value =  1.0998077846402751e+32 W =  [[-1.32750070e+13]\n",
      " [ 6.88006121e+11]\n",
      " [-1.32764739e+13]] , b =  [1.34453886e+08]\n",
      "step =  800 error value =  1.0998077846402751e+32 W =  [[-1.32750070e+13]\n",
      " [ 6.88006121e+11]\n",
      " [-1.32764739e+13]] , b =  [1.34453886e+08]\n",
      "step =  1200 error value =  1.0998077846402751e+32 W =  [[-1.32750070e+13]\n",
      " [ 6.88006121e+11]\n",
      " [-1.32764739e+13]] , b =  [1.34453886e+08]\n",
      "step =  1600 error value =  1.0998077846402751e+32 W =  [[-1.32750070e+13]\n",
      " [ 6.88006121e+11]\n",
      " [-1.32764739e+13]] , b =  [1.34453886e+08]\n",
      "step =  2000 error value =  1.0998077846402751e+32 W =  [[-1.32750070e+13]\n",
      " [ 6.88006121e+11]\n",
      " [-1.32764739e+13]] , b =  [1.34453886e+08]\n",
      "step =  2400 error value =  1.0998077846402751e+32 W =  [[-1.32750070e+13]\n",
      " [ 6.88006121e+11]\n",
      " [-1.32764739e+13]] , b =  [1.34453886e+08]\n",
      "step =  2800 error value =  1.0998077846402751e+32 W =  [[-1.32750070e+13]\n",
      " [ 6.88006121e+11]\n",
      " [-1.32764739e+13]] , b =  [1.34453886e+08]\n",
      "step =  3200 error value =  1.0998077846402751e+32 W =  [[-1.32750070e+13]\n",
      " [ 6.88006121e+11]\n",
      " [-1.32764739e+13]] , b =  [1.34453886e+08]\n",
      "step =  3600 error value =  1.0998077846402751e+32 W =  [[-1.32750070e+13]\n",
      " [ 6.88006121e+11]\n",
      " [-1.32764739e+13]] , b =  [1.34453886e+08]\n",
      "step =  4000 error value =  1.0998077846402751e+32 W =  [[-1.32750070e+13]\n",
      " [ 6.88006121e+11]\n",
      " [-1.32764739e+13]] , b =  [1.34453886e+08]\n",
      "step =  4400 error value =  1.0998077846402751e+32 W =  [[-1.32750070e+13]\n",
      " [ 6.88006121e+11]\n",
      " [-1.32764739e+13]] , b =  [1.34453886e+08]\n",
      "step =  4800 error value =  1.0998077846402751e+32 W =  [[-1.32750070e+13]\n",
      " [ 6.88006121e+11]\n",
      " [-1.32764739e+13]] , b =  [1.34453886e+08]\n",
      "step =  5200 error value =  1.0998077846402751e+32 W =  [[-1.32750070e+13]\n",
      " [ 6.88006121e+11]\n",
      " [-1.32764739e+13]] , b =  [1.34453886e+08]\n",
      "step =  5600 error value =  1.0998077846402751e+32 W =  [[-1.32750070e+13]\n",
      " [ 6.88006121e+11]\n",
      " [-1.32764739e+13]] , b =  [1.34453886e+08]\n",
      "step =  6000 error value =  1.0998077846402751e+32 W =  [[-1.32750070e+13]\n",
      " [ 6.88006121e+11]\n",
      " [-1.32764739e+13]] , b =  [1.34453886e+08]\n",
      "step =  6400 error value =  1.0998077846402751e+32 W =  [[-1.32750070e+13]\n",
      " [ 6.88006121e+11]\n",
      " [-1.32764739e+13]] , b =  [1.34453886e+08]\n",
      "step =  6800 error value =  1.0998077846402751e+32 W =  [[-1.32750070e+13]\n",
      " [ 6.88006121e+11]\n",
      " [-1.32764739e+13]] , b =  [1.34453886e+08]\n",
      "step =  7200 error value =  1.0998077846402751e+32 W =  [[-1.32750070e+13]\n",
      " [ 6.88006121e+11]\n",
      " [-1.32764739e+13]] , b =  [1.34453886e+08]\n",
      "step =  7600 error value =  1.0998077846402751e+32 W =  [[-1.32750070e+13]\n",
      " [ 6.88006121e+11]\n",
      " [-1.32764739e+13]] , b =  [1.34453886e+08]\n",
      "step =  8000 error value =  1.0998077846402751e+32 W =  [[-1.32750070e+13]\n",
      " [ 6.88006121e+11]\n",
      " [-1.32764739e+13]] , b =  [1.34453886e+08]\n",
      "step =  8400 error value =  1.0998077846402751e+32 W =  [[-1.32750070e+13]\n",
      " [ 6.88006121e+11]\n",
      " [-1.32764739e+13]] , b =  [1.34453886e+08]\n",
      "step =  8800 error value =  1.0998077846402751e+32 W =  [[-1.32750070e+13]\n",
      " [ 6.88006121e+11]\n",
      " [-1.32764739e+13]] , b =  [1.34453886e+08]\n",
      "step =  9200 error value =  1.0998077846402751e+32 W =  [[-1.32750070e+13]\n",
      " [ 6.88006121e+11]\n",
      " [-1.32764739e+13]] , b =  [1.34453886e+08]\n",
      "step =  9600 error value =  1.0998077846402751e+32 W =  [[-1.32750070e+13]\n",
      " [ 6.88006121e+11]\n",
      " [-1.32764739e+13]] , b =  [1.34453886e+08]\n",
      "step =  10000 error value =  1.0998077846402751e+32 W =  [[-1.32750070e+13]\n",
      " [ 6.88006121e+11]\n",
      " [-1.32764739e+13]] , b =  [1.34453886e+08]\n"
     ]
    }
   ],
   "source": [
    "learning_rate = 1e-5  # 1e-2, 1e-3 은 손실함수 값 발산\n",
    "\n",
    "f = lambda x : loss_func(x_data,t_data)\n",
    "\n",
    "print(\"Initial error value = \", error_val(x_data, t_data), \"Initial W = \", W, \"\\n\", \", b = \", b )\n",
    "\n",
    "for step in  range(10001):  \n",
    "    \n",
    "    W -= learning_rate * numerical_derivative(f, W)\n",
    "    \n",
    "    b -= learning_rate * numerical_derivative(f, b)\n",
    "    \n",
    "    if (step % 400 == 0):\n",
    "        print(\"step = \", step, \"error value = \", error_val(x_data, t_data), \"W = \", W, \", b = \",b )"
   ]
  },
  {
   "cell_type": "code",
   "execution_count": 10,
   "metadata": {},
   "outputs": [
    {
     "data": {
      "text/plain": [
       "array([-2.33547035e+15])"
      ]
     },
     "execution_count": 10,
     "metadata": {},
     "output_type": "execute_result"
    }
   ],
   "source": [
    "test_data = np.array([100, 98, 81])\n",
    "\n",
    "predict(test_data) "
   ]
  }
 ],
 "metadata": {
  "anaconda-cloud": {},
  "kernelspec": {
   "display_name": "Python 3 (ipykernel)",
   "language": "python",
   "name": "python3"
  },
  "language_info": {
   "codemirror_mode": {
    "name": "ipython",
    "version": 3
   },
   "file_extension": ".py",
   "mimetype": "text/x-python",
   "name": "python",
   "nbconvert_exporter": "python",
   "pygments_lexer": "ipython3",
   "version": "3.9.12"
  }
 },
 "nbformat": 4,
 "nbformat_minor": 1
}
